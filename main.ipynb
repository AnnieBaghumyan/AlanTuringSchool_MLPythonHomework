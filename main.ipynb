{
 "cells": [
  {
   "cell_type": "code",
   "execution_count": 2,
   "id": "1da55771",
   "metadata": {},
   "outputs": [],
   "source": [
    "import rdata\n",
    "import pandas as pd"
   ]
  },
  {
   "cell_type": "code",
   "execution_count": 11,
   "id": "62d05243-4b00-4223-9e9f-91360eed615f",
   "metadata": {},
   "outputs": [
    {
     "name": "stderr",
     "output_type": "stream",
     "text": [
      "c:\\program files\\python38\\lib\\site-packages\\rdata\\conversion\\_conversion.py:669: UserWarning: Missing constructor for R class \"POSIXct\". The constructor for class \"POSIXt\" will be used instead.\n",
      "  warnings.warn(\n",
      "c:\\program files\\python38\\lib\\site-packages\\rdata\\conversion\\_conversion.py:669: UserWarning: Missing constructor for R class \"POSIXt\". The underlying R object is returned instead.\n",
      "  warnings.warn(\n"
     ]
    }
   ],
   "source": [
    "parsed = rdata.parser.parse_file(\"f_data_sm.rda\")\n",
    "converted = rdata.conversion.convert(parsed)"
   ]
  },
  {
   "cell_type": "code",
   "execution_count": 12,
   "id": "afc4fb9a-9d01-4591-a446-93c078bff13a",
   "metadata": {},
   "outputs": [
    {
     "name": "stdout",
     "output_type": "stream",
     "text": [
      "       SEASON  COUNTRY             LEAGUE          DATE       HOMETEAM  \\\n",
      "1      1994.0  England     Premier League  7.452864e+08        Arsenal   \n",
      "2      1994.0  England     Premier League  7.452864e+08    Aston Villa   \n",
      "3      1994.0  England     Premier League  7.452864e+08        Chelsea   \n",
      "4      1994.0  England     Premier League  7.452864e+08      Liverpool   \n",
      "5      1994.0  England     Premier League  7.452864e+08       Man City   \n",
      "...       ...      ...                ...           ...            ...   \n",
      "87812  2019.0   Greece  Ethniki Katigoria  1.557014e+09      Atromitos   \n",
      "87813  2019.0   Greece  Ethniki Katigoria  1.557014e+09       Giannina   \n",
      "87814  2019.0   Greece  Ethniki Katigoria  1.557014e+09         Larisa   \n",
      "87815  2019.0   Greece  Ethniki Katigoria  1.557014e+09    Levadeiakos   \n",
      "87816  2019.0   Greece  Ethniki Katigoria  1.557014e+09  Panathinaikos   \n",
      "\n",
      "             AWAYTEAM FTSC FTR  FTHG  FTAG  FTTG   H   D   A  \n",
      "1            Coventry  0-3   A   0.0   3.0   3.0 NaN NaN NaN  \n",
      "2                 QPR  4-1   H   4.0   1.0   5.0 NaN NaN NaN  \n",
      "3           Blackburn  1-2   A   1.0   2.0   3.0 NaN NaN NaN  \n",
      "4      Sheffield Weds  2-0   H   2.0   0.0   2.0 NaN NaN NaN  \n",
      "5               Leeds  1-1   D   1.0   1.0   2.0 NaN NaN NaN  \n",
      "...               ...  ...  ..   ...   ...   ...  ..  ..  ..  \n",
      "87812       OFI Crete  0-2   A   0.0   2.0   2.0 NaN NaN NaN  \n",
      "87813            PAOK  0-2   A   0.0   2.0   2.0 NaN NaN NaN  \n",
      "87814      Olympiakos  0-3   A   0.0   3.0   3.0 NaN NaN NaN  \n",
      "87815             AEK  0-3   A   0.0   3.0   3.0 NaN NaN NaN  \n",
      "87816     Panetolikos  4-0   H   4.0   0.0   4.0 NaN NaN NaN  \n",
      "\n",
      "[87816 rows x 14 columns]\n"
     ]
    }
   ],
   "source": [
    "df = pd.DataFrame(converted['f_data_sm'])\n",
    "print(df)"
   ]
  },
  {
   "cell_type": "code",
   "execution_count": null,
   "id": "f261fad2-cccc-49ba-b0d2-148c2e93842f",
   "metadata": {},
   "outputs": [],
   "source": []
  }
 ],
 "metadata": {
  "kernelspec": {
   "display_name": "Python 3 (ipykernel)",
   "language": "python",
   "name": "python3"
  },
  "language_info": {
   "codemirror_mode": {
    "name": "ipython",
    "version": 3
   },
   "file_extension": ".py",
   "mimetype": "text/x-python",
   "name": "python",
   "nbconvert_exporter": "python",
   "pygments_lexer": "ipython3",
   "version": "3.8.3"
  }
 },
 "nbformat": 4,
 "nbformat_minor": 5
}
