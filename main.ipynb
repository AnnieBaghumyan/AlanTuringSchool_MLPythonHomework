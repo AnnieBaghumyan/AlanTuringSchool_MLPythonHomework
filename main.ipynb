{
 "cells": [
  {
   "cell_type": "code",
   "execution_count": 1,
   "id": "1da55771",
   "metadata": {},
   "outputs": [],
   "source": [
    "import rdata\n",
    "import pandas as pd\n",
    "from matplotlib import pyplot as plt"
   ]
  },
  {
   "cell_type": "code",
   "execution_count": 2,
   "id": "62d05243-4b00-4223-9e9f-91360eed615f",
   "metadata": {},
   "outputs": [
    {
     "name": "stderr",
     "output_type": "stream",
     "text": [
      "c:\\program files\\python38\\lib\\site-packages\\rdata\\conversion\\_conversion.py:669: UserWarning: Missing constructor for R class \"POSIXct\". The constructor for class \"POSIXt\" will be used instead.\n",
      "  warnings.warn(\n",
      "c:\\program files\\python38\\lib\\site-packages\\rdata\\conversion\\_conversion.py:669: UserWarning: Missing constructor for R class \"POSIXt\". The underlying R object is returned instead.\n",
      "  warnings.warn(\n"
     ]
    }
   ],
   "source": [
    "parsed = rdata.parser.parse_file(\"f_data_sm.rda\")\n",
    "converted = rdata.conversion.convert(parsed)"
   ]
  },
  {
   "cell_type": "code",
   "execution_count": 3,
   "id": "f261fad2-cccc-49ba-b0d2-148c2e93842f",
   "metadata": {},
   "outputs": [
    {
     "name": "stdout",
     "output_type": "stream",
     "text": [
      "   SEASON  COUNTRY          LEAGUE         DATE     HOMETEAM        AWAYTEAM  \\\n",
      "1  1994.0  England  Premier League  745286400.0      Arsenal        Coventry   \n",
      "2  1994.0  England  Premier League  745286400.0  Aston Villa             QPR   \n",
      "3  1994.0  England  Premier League  745286400.0      Chelsea       Blackburn   \n",
      "4  1994.0  England  Premier League  745286400.0    Liverpool  Sheffield Weds   \n",
      "5  1994.0  England  Premier League  745286400.0     Man City           Leeds   \n",
      "\n",
      "  FTSC FTR  FTHG  FTAG  FTTG   H   D   A  \n",
      "1  0-3   A   0.0   3.0   3.0 NaN NaN NaN  \n",
      "2  4-1   H   4.0   1.0   5.0 NaN NaN NaN  \n",
      "3  1-2   A   1.0   2.0   3.0 NaN NaN NaN  \n",
      "4  2-0   H   2.0   0.0   2.0 NaN NaN NaN  \n",
      "5  1-1   D   1.0   1.0   2.0 NaN NaN NaN  \n"
     ]
    }
   ],
   "source": [
    "df = pd.DataFrame(converted['f_data_sm'])\n",
    "print(df.head())"
   ]
  },
  {
   "cell_type": "code",
   "execution_count": 4,
   "id": "640c9576-050e-40e2-b8a5-1f75b13f33f9",
   "metadata": {},
   "outputs": [
    {
     "name": "stdout",
     "output_type": "stream",
     "text": [
      "     SEASON          LEAGUE      FTHG      FTAG\n",
      "246  2019.0      Eredivisie  2.006536  1.460784\n",
      "59   2000.0  Jupiler League  1.990196  1.398693\n",
      "36   1998.0      Eredivisie  1.950980  1.323529\n",
      "166  2011.0      Eredivisie  1.944444  1.281046\n",
      "68   2001.0   Futbol Ligi 1  1.921569  1.395425\n"
     ]
    }
   ],
   "source": [
    "df_avg = df.groupby([\"SEASON\",\"LEAGUE\"],as_index=False)[[\"FTHG\",\"FTAG\"]].mean().sort_values(by='FTHG',ascending=False)\n",
    "print(df_avg.head())"
   ]
  },
  {
   "cell_type": "code",
   "execution_count": 5,
   "id": "9c287387-e5d7-475d-a7e8-b49aa375ea5b",
   "metadata": {},
   "outputs": [
    {
     "data": {
      "text/plain": [
       "<AxesSubplot:xlabel='SEASON'>"
      ]
     },
     "execution_count": 5,
     "metadata": {},
     "output_type": "execute_result"
    },
    {
     "data": {
      "image/png": "[encoded data removed]",
      "text/plain": [
       "<Figure size 432x288 with 1 Axes>"
      ]
     },
     "metadata": {
      "needs_background": "light"
     },
     "output_type": "display_data"
    }
   ],
   "source": [
    "df_avg[df_avg[\"LEAGUE\"]==\"Premier League\"].sort_values(by='SEASON').plot(kind=\"bar\",x=\"SEASON\",y=[\"FTHG\",\"FTAG\"])"
   ]
  },
  {
   "cell_type": "code",
   "execution_count": 6,
   "id": "8364be03-f7b4-4a2b-ae13-3552193394f7",
   "metadata": {},
   "outputs": [
    {
     "name": "stdout",
     "output_type": "stream",
     "text": [
      "          HOMETEAM  FTHG\n",
      "3             Ajax  70.0\n",
      "141       Paris SG  63.0\n",
      "26         Benfica  63.0\n",
      "137  PSV Eindhoven  58.0\n",
      "115       Man City  57.0\n"
     ]
    }
   ],
   "source": [
    "df_best_attack = df[df[\"SEASON\"]==2019].groupby([\"HOMETEAM\"],as_index=False)[[\"FTHG\"]].sum().sort_values(by=['FTHG'],ascending=False)\n",
    "print(df_best_attack.head())"
   ]
  },
  {
   "cell_type": "code",
   "execution_count": 7,
   "id": "eae78908",
   "metadata": {},
   "outputs": [
    {
     "name": "stdout",
     "output_type": "stream",
     "text": [
      "          HOMETEAM  FTAG\n",
      "136           PAOK   5.0\n",
      "0              AEK   6.0\n",
      "137  PSV Eindhoven   7.0\n",
      "146        Rangers   7.0\n",
      "41          Celtic   7.0\n"
     ]
    }
   ],
   "source": [
    "df_best_defense = df[df[\"SEASON\"]==2019].groupby([\"HOMETEAM\"],as_index=False)[[\"FTAG\"]].sum().sort_values(by=['FTAG'],ascending=True)\n",
    "print(df_best_defense.head())"
   ]
  },
  {
   "cell_type": "code",
   "execution_count": 8,
   "id": "9a8738de",
   "metadata": {},
   "outputs": [
    {
     "name": "stdout",
     "output_type": "stream",
     "text": [
      "   SEASON  COUNTRY          LEAGUE         DATE     HOMETEAM        AWAYTEAM  \\\n",
      "1  1994.0  England  Premier League  745286400.0      Arsenal        Coventry   \n",
      "2  1994.0  England  Premier League  745286400.0  Aston Villa             QPR   \n",
      "3  1994.0  England  Premier League  745286400.0      Chelsea       Blackburn   \n",
      "4  1994.0  England  Premier League  745286400.0    Liverpool  Sheffield Weds   \n",
      "5  1994.0  England  Premier League  745286400.0     Man City           Leeds   \n",
      "\n",
      "  FTSC FTR  FTHG  FTAG  FTTG   H   D   A  FTDG  \n",
      "1  0-3   A   0.0   3.0   3.0 NaN NaN NaN   3.0  \n",
      "2  4-1   H   4.0   1.0   5.0 NaN NaN NaN   3.0  \n",
      "3  1-2   A   1.0   2.0   3.0 NaN NaN NaN   1.0  \n",
      "4  2-0   H   2.0   0.0   2.0 NaN NaN NaN   2.0  \n",
      "5  1-1   D   1.0   1.0   2.0 NaN NaN NaN   0.0  \n"
     ]
    }
   ],
   "source": [
    "df[\"FTDG\"] = df.apply(lambda row: abs(row.FTHG - row.FTAG), axis=1)\n",
    "print(df.head())"
   ]
  },
  {
   "cell_type": "code",
   "execution_count": 9,
   "id": "7ac4ea5b",
   "metadata": {},
   "outputs": [
    {
     "name": "stdout",
     "output_type": "stream",
     "text": [
      "       SEASON  COUNTRY             LEAGUE       HOMETEAM        AWAYTEAM FTR  \\\n",
      "1      1994.0  England     Premier League        Arsenal        Coventry   A   \n",
      "2      1994.0  England     Premier League    Aston Villa             QPR   H   \n",
      "3      1994.0  England     Premier League        Chelsea       Blackburn   A   \n",
      "4      1994.0  England     Premier League      Liverpool  Sheffield Weds   H   \n",
      "5      1994.0  England     Premier League       Man City           Leeds   D   \n",
      "...       ...      ...                ...            ...             ...  ..   \n",
      "87812  2019.0   Greece  Ethniki Katigoria      Atromitos       OFI Crete   A   \n",
      "87813  2019.0   Greece  Ethniki Katigoria       Giannina            PAOK   A   \n",
      "87814  2019.0   Greece  Ethniki Katigoria         Larisa      Olympiakos   A   \n",
      "87815  2019.0   Greece  Ethniki Katigoria    Levadeiakos             AEK   A   \n",
      "87816  2019.0   Greece  Ethniki Katigoria  Panathinaikos     Panetolikos   H   \n",
      "\n",
      "       FTTG  FTDG  \n",
      "1       3.0   3.0  \n",
      "2       5.0   3.0  \n",
      "3       3.0   1.0  \n",
      "4       2.0   2.0  \n",
      "5       2.0   0.0  \n",
      "...     ...   ...  \n",
      "87812   2.0   2.0  \n",
      "87813   2.0   2.0  \n",
      "87814   3.0   3.0  \n",
      "87815   3.0   3.0  \n",
      "87816   4.0   4.0  \n",
      "\n",
      "[87816 rows x 8 columns]\n"
     ]
    }
   ],
   "source": [
    "df = df.drop([\"FTSC\",\"FTHG\",\"FTAG\",\"H\",\"D\",\"A\",\"DATE\"],axis=1)\n",
    "print(df)"
   ]
  },
  {
   "cell_type": "code",
   "execution_count": 10,
   "id": "c1972e9d",
   "metadata": {},
   "outputs": [
    {
     "name": "stdout",
     "output_type": "stream",
     "text": [
      "       SEASON  COUNTRY             LEAGUE       HOMETEAM        AWAYTEAM FTR  \\\n",
      "1        1994  England     Premier League        Arsenal        Coventry   A   \n",
      "2        1994  England     Premier League    Aston Villa             QPR   H   \n",
      "3        1994  England     Premier League        Chelsea       Blackburn   A   \n",
      "4        1994  England     Premier League      Liverpool  Sheffield Weds   H   \n",
      "5        1994  England     Premier League       Man City           Leeds   D   \n",
      "...       ...      ...                ...            ...             ...  ..   \n",
      "87812    2019   Greece  Ethniki Katigoria      Atromitos       OFI Crete   A   \n",
      "87813    2019   Greece  Ethniki Katigoria       Giannina            PAOK   A   \n",
      "87814    2019   Greece  Ethniki Katigoria         Larisa      Olympiakos   A   \n",
      "87815    2019   Greece  Ethniki Katigoria    Levadeiakos             AEK   A   \n",
      "87816    2019   Greece  Ethniki Katigoria  Panathinaikos     Panetolikos   H   \n",
      "\n",
      "       FTTG  FTDG  \n",
      "1       3.0   3.0  \n",
      "2       5.0   3.0  \n",
      "3       3.0   1.0  \n",
      "4       2.0   2.0  \n",
      "5       2.0   0.0  \n",
      "...     ...   ...  \n",
      "87812   2.0   2.0  \n",
      "87813   2.0   2.0  \n",
      "87814   3.0   3.0  \n",
      "87815   3.0   3.0  \n",
      "87816   4.0   4.0  \n",
      "\n",
      "[87816 rows x 8 columns]\n"
     ]
    }
   ],
   "source": [
    "df[\"SEASON\"] = df[\"SEASON\"].astype(int)\n",
    "print(df)"
   ]
  },
  {
   "cell_type": "code",
   "execution_count": 11,
   "id": "a65de8c1",
   "metadata": {},
   "outputs": [],
   "source": [
    "df.dropna(inplace=True)"
   ]
  },
  {
   "cell_type": "code",
   "execution_count": 12,
   "id": "0a0e84f2",
   "metadata": {},
   "outputs": [
    {
     "name": "stdout",
     "output_type": "stream",
     "text": [
      "       SEASON  COUNTRY  LEAGUE  HOMETEAM  AWAYTEAM FTR  FTTG  FTDG\n",
      "1        1994        0       0         0         0   A   3.0   3.0\n",
      "2        1994        0       0         1         1   H   5.0   3.0\n",
      "3        1994        0       0         2         2   A   3.0   1.0\n",
      "4        1994        0       0         3         3   H   2.0   2.0\n",
      "5        1994        0       0         4         4   D   2.0   0.0\n",
      "...       ...      ...     ...       ...       ...  ..   ...   ...\n",
      "87812    2019        9       8       381       479   A   2.0   2.0\n",
      "87813    2019        9       8       343       198   A   2.0   2.0\n",
      "87814    2019        9       8       187       183   A   3.0   3.0\n",
      "87815    2019        9       8       382       192   A   3.0   3.0\n",
      "87816    2019        9       8       196       431   H   4.0   4.0\n",
      "\n",
      "[87814 rows x 8 columns]\n"
     ]
    }
   ],
   "source": [
    "df[[\"COUNTRY\",\"LEAGUE\",\"HOMETEAM\",\"AWAYTEAM\"]] = df[[\"COUNTRY\",\"LEAGUE\",\"HOMETEAM\",\"AWAYTEAM\"]].apply(lambda x: x.factorize()[0])\n",
    "print(df)"
   ]
  },
  {
   "cell_type": "code",
   "execution_count": 13,
   "id": "c5bdf491",
   "metadata": {},
   "outputs": [],
   "source": [
    "from sklearn.model_selection import train_test_split"
   ]
  },
  {
   "cell_type": "code",
   "execution_count": 14,
   "id": "abd7a13f",
   "metadata": {},
   "outputs": [],
   "source": [
    "X = df[[\"SEASON\", \"COUNTRY\", \"LEAGUE\", \"HOMETEAM\", \"AWAYTEAM\", \"FTTG\", \"FTDG\"]]\n",
    "y = df[\"FTR\"]"
   ]
  },
  {
   "cell_type": "code",
   "execution_count": 15,
   "id": "f1819886",
   "metadata": {},
   "outputs": [],
   "source": [
    "X_train, X_test, y_train, y_test = train_test_split(X,y,test_size=0.2,random_state=2,stratify=y)"
   ]
  },
  {
   "cell_type": "code",
   "execution_count": 16,
   "id": "5f68fe22",
   "metadata": {},
   "outputs": [],
   "source": [
    "from sklearn.ensemble import RandomForestClassifier"
   ]
  },
  {
   "cell_type": "code",
   "execution_count": 17,
   "id": "5dbe0350",
   "metadata": {},
   "outputs": [
    {
     "data": {
      "text/plain": [
       "RandomForestClassifier()"
      ]
     },
     "execution_count": 17,
     "metadata": {},
     "output_type": "execute_result"
    }
   ],
   "source": [
    "model = RandomForestClassifier()\n",
    "model.fit(X_train,y_train)"
   ]
  },
  {
   "cell_type": "code",
   "execution_count": 18,
   "id": "b61117df",
   "metadata": {},
   "outputs": [
    {
     "name": "stdout",
     "output_type": "stream",
     "text": [
      "['H' 'D' 'D' ... 'H' 'H' 'D']\n"
     ]
    }
   ],
   "source": [
    "y_pred = model.predict(X_test)\n",
    "print(y_pred)"
   ]
  },
  {
   "cell_type": "code",
   "execution_count": 19,
   "id": "48e53f1f",
   "metadata": {},
   "outputs": [],
   "source": [
    "from sklearn.metrics import precision_score"
   ]
  },
  {
   "cell_type": "code",
   "execution_count": 20,
   "id": "72c9cbfb",
   "metadata": {},
   "outputs": [
    {
     "name": "stdout",
     "output_type": "stream",
     "text": [
      "0.7447959262337469\n"
     ]
    }
   ],
   "source": [
    "pr = precision_score(y_test, y_pred, average='macro')\n",
    "print(pr)"
   ]
  },
  {
   "cell_type": "code",
   "execution_count": 21,
   "id": "5a626322",
   "metadata": {},
   "outputs": [],
   "source": [
    "from sklearn.svm import SVC"
   ]
  },
  {
   "cell_type": "code",
   "execution_count": 22,
   "id": "8a5ca906",
   "metadata": {},
   "outputs": [
    {
     "data": {
      "text/plain": [
       "SVC(random_state=912)"
      ]
     },
     "execution_count": 22,
     "metadata": {},
     "output_type": "execute_result"
    }
   ],
   "source": [
    "model_SVC = SVC(random_state=912, kernel='rbf')\n",
    "model_SVC.fit(X_train,y_train)"
   ]
  },
  {
   "cell_type": "code",
   "execution_count": 23,
   "id": "b61355e4",
   "metadata": {},
   "outputs": [],
   "source": [
    "y_pred_SVC = model_SVC.predict(X_test)"
   ]
  },
  {
   "cell_type": "code",
   "execution_count": 27,
   "id": "b137b3da",
   "metadata": {},
   "outputs": [
    {
     "name": "stdout",
     "output_type": "stream",
     "text": [
      "0.8241758241758242\n"
     ]
    }
   ],
   "source": [
    "pr_SVC = precision_score(y_test, y_pred_SVC, average='macro', zero_division=True)\n",
    "print(pr_SVC)"
   ]
  }
 ],
 "metadata": {
  "kernelspec": {
   "display_name": "Python 3 (ipykernel)",
   "language": "python",
   "name": "python3"
  },
  "language_info": {
   "codemirror_mode": {
    "name": "ipython",
    "version": 3
   },
   "file_extension": ".py",
   "mimetype": "text/x-python",
   "name": "python",
   "nbconvert_exporter": "python",
   "pygments_lexer": "ipython3",
   "version": "3.8.3"
  }
 },
 "nbformat": 4,
 "nbformat_minor": 5
}
